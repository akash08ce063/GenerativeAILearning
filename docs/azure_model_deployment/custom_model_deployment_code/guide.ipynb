So, you can actually host the full model in local machine as docker image and container before even deploying to azure machine learning.

This documentation is guide - https://learn.microsoft.com/en-us/azure/machine-learning/how-to-deploy-online-endpoints?view=azureml-api-2&tabs=cli

Code base - https://github.com/Azure/azureml-examples/blob/main/sdk/python/endpoints/online/managed/online-endpoints-simple-deployment.ipynb changes.

