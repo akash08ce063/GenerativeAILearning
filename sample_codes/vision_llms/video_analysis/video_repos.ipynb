{
 "cells": [
  {
   "cell_type": "markdown",
   "metadata": {},
   "source": [
    "# Useful Repositories for vision model"
   ]
  },
  {
   "cell_type": "markdown",
   "metadata": {},
   "source": [
    "https://github.com/byjlw/video-analyzer/ -> Analyze the video, but seems slightly slow\n",
    "\n",
    "https://github.com/DAMO-NLP-SG/VideoLLaMA3/tree/main -> Finetuned LLAMA model for video"
   ]
  }
 ],
 "metadata": {
  "language_info": {
   "name": "python"
  }
 },
 "nbformat": 4,
 "nbformat_minor": 2
}
