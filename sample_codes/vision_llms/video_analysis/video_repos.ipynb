{
 "cells": [
  {
   "cell_type": "markdown",
   "metadata": {},
   "source": [
    "# Useful Repositories for vision model"
   ]
  },
  {
   "cell_type": "markdown",
   "metadata": {},
   "source": [
    "https://github.com/byjlw/video-analyzer/ -> Analyze the video, but seems slightly slow\n",
    "\n",
    "https://github.com/DAMO-NLP-SG/VideoLLaMA3/tree/main -> Finetuned LLAMA model for video\n",
    "\n",
    "https://github.com/yunlong10/Awesome-LLMs-for-Video-Understanding?tab=readme-ov-file#-vid-llm-instruction-tuning  -> Plathora of resources for video analysis platform"
   ]
  }
 ],
 "metadata": {
  "language_info": {
   "name": "python"
  }
 },
 "nbformat": 4,
 "nbformat_minor": 2
}
